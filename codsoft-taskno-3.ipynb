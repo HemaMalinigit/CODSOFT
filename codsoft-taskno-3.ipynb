{
 "cells": [
  {
   "cell_type": "code",
   "execution_count": 1,
   "id": "bd02aa5d",
   "metadata": {
    "_cell_guid": "b1076dfc-b9ad-4769-8c92-a6c4dae69d19",
    "_uuid": "8f2839f25d086af736a60e9eeb907d3b93b6e0e5",
    "execution": {
     "iopub.execute_input": "2024-02-27T16:03:47.253576Z",
     "iopub.status.busy": "2024-02-27T16:03:47.253173Z",
     "iopub.status.idle": "2024-02-27T16:03:48.249225Z",
     "shell.execute_reply": "2024-02-27T16:03:48.247802Z"
    },
    "papermill": {
     "duration": 1.013744,
     "end_time": "2024-02-27T16:03:48.252458",
     "exception": false,
     "start_time": "2024-02-27T16:03:47.238714",
     "status": "completed"
    },
    "tags": []
   },
   "outputs": [
    {
     "name": "stdout",
     "output_type": "stream",
     "text": [
      "/kaggle/input/iris-flower-dataset/IRIS.csv\n"
     ]
    }
   ],
   "source": [
    "# This Python 3 environment comes with many helpful analytics libraries installed\n",
    "# It is defined by the kaggle/python Docker image: https://github.com/kaggle/docker-python\n",
    "# For example, here's several helpful packages to load\n",
    "\n",
    "import numpy as np # linear algebra\n",
    "import pandas as pd # data processing, CSV file I/O (e.g. pd.read_csv)\n",
    "\n",
    "# Input data files are available in the read-only \"../input/\" directory\n",
    "# For example, running this (by clicking run or pressing Shift+Enter) will list all files under the input directory\n",
    "\n",
    "import os\n",
    "for dirname, _, filenames in os.walk('/kaggle/input'):\n",
    "    for filename in filenames:\n",
    "        print(os.path.join(dirname, filename))\n",
    "\n",
    "# You can write up to 20GB to the current directory (/kaggle/working/) that gets preserved as output when you create a version using \"Save & Run All\" \n",
    "# You can also write temporary files to /kaggle/temp/, but they won't be saved outside of the current session"
   ]
  },
  {
   "cell_type": "markdown",
   "id": "571e6f47",
   "metadata": {
    "papermill": {
     "duration": 0.011278,
     "end_time": "2024-02-27T16:03:48.275740",
     "exception": false,
     "start_time": "2024-02-27T16:03:48.264462",
     "status": "completed"
    },
    "tags": []
   },
   "source": [
    "**Import Necessary Libraries**"
   ]
  },
  {
   "cell_type": "code",
   "execution_count": 2,
   "id": "72de7596",
   "metadata": {
    "execution": {
     "iopub.execute_input": "2024-02-27T16:03:48.301430Z",
     "iopub.status.busy": "2024-02-27T16:03:48.300879Z",
     "iopub.status.idle": "2024-02-27T16:03:50.452365Z",
     "shell.execute_reply": "2024-02-27T16:03:50.450670Z"
    },
    "papermill": {
     "duration": 2.168484,
     "end_time": "2024-02-27T16:03:50.455975",
     "exception": false,
     "start_time": "2024-02-27T16:03:48.287491",
     "status": "completed"
    },
    "tags": []
   },
   "outputs": [],
   "source": [
    "import pandas as pd \n",
    "import numpy as np \n",
    "import seaborn as sns\n",
    "import matplotlib.pyplot as plt\n",
    "from sklearn.model_selection import train_test_split\n",
    "from sklearn.linear_model import LinearRegression"
   ]
  },
  {
   "cell_type": "markdown",
   "id": "c6ae462d",
   "metadata": {
    "papermill": {
     "duration": 0.011944,
     "end_time": "2024-02-27T16:03:50.480660",
     "exception": false,
     "start_time": "2024-02-27T16:03:50.468716",
     "status": "completed"
    },
    "tags": []
   },
   "source": [
    "**Loading The Dataset**"
   ]
  },
  {
   "cell_type": "code",
   "execution_count": 3,
   "id": "e69ed8bd",
   "metadata": {
    "execution": {
     "iopub.execute_input": "2024-02-27T16:03:50.507634Z",
     "iopub.status.busy": "2024-02-27T16:03:50.507145Z",
     "iopub.status.idle": "2024-02-27T16:03:50.550324Z",
     "shell.execute_reply": "2024-02-27T16:03:50.548615Z"
    },
    "papermill": {
     "duration": 0.061761,
     "end_time": "2024-02-27T16:03:50.554816",
     "exception": false,
     "start_time": "2024-02-27T16:03:50.493055",
     "status": "completed"
    },
    "tags": []
   },
   "outputs": [
    {
     "data": {
      "text/html": [
       "<div>\n",
       "<style scoped>\n",
       "    .dataframe tbody tr th:only-of-type {\n",
       "        vertical-align: middle;\n",
       "    }\n",
       "\n",
       "    .dataframe tbody tr th {\n",
       "        vertical-align: top;\n",
       "    }\n",
       "\n",
       "    .dataframe thead th {\n",
       "        text-align: right;\n",
       "    }\n",
       "</style>\n",
       "<table border=\"1\" class=\"dataframe\">\n",
       "  <thead>\n",
       "    <tr style=\"text-align: right;\">\n",
       "      <th></th>\n",
       "      <th>sepal_length</th>\n",
       "      <th>sepal_width</th>\n",
       "      <th>petal_length</th>\n",
       "      <th>petal_width</th>\n",
       "      <th>species</th>\n",
       "    </tr>\n",
       "  </thead>\n",
       "  <tbody>\n",
       "    <tr>\n",
       "      <th>0</th>\n",
       "      <td>5.1</td>\n",
       "      <td>3.5</td>\n",
       "      <td>1.4</td>\n",
       "      <td>0.2</td>\n",
       "      <td>Iris-setosa</td>\n",
       "    </tr>\n",
       "    <tr>\n",
       "      <th>1</th>\n",
       "      <td>4.9</td>\n",
       "      <td>3.0</td>\n",
       "      <td>1.4</td>\n",
       "      <td>0.2</td>\n",
       "      <td>Iris-setosa</td>\n",
       "    </tr>\n",
       "    <tr>\n",
       "      <th>2</th>\n",
       "      <td>4.7</td>\n",
       "      <td>3.2</td>\n",
       "      <td>1.3</td>\n",
       "      <td>0.2</td>\n",
       "      <td>Iris-setosa</td>\n",
       "    </tr>\n",
       "    <tr>\n",
       "      <th>3</th>\n",
       "      <td>4.6</td>\n",
       "      <td>3.1</td>\n",
       "      <td>1.5</td>\n",
       "      <td>0.2</td>\n",
       "      <td>Iris-setosa</td>\n",
       "    </tr>\n",
       "    <tr>\n",
       "      <th>4</th>\n",
       "      <td>5.0</td>\n",
       "      <td>3.6</td>\n",
       "      <td>1.4</td>\n",
       "      <td>0.2</td>\n",
       "      <td>Iris-setosa</td>\n",
       "    </tr>\n",
       "  </tbody>\n",
       "</table>\n",
       "</div>"
      ],
      "text/plain": [
       "   sepal_length  sepal_width  petal_length  petal_width      species\n",
       "0           5.1          3.5           1.4          0.2  Iris-setosa\n",
       "1           4.9          3.0           1.4          0.2  Iris-setosa\n",
       "2           4.7          3.2           1.3          0.2  Iris-setosa\n",
       "3           4.6          3.1           1.5          0.2  Iris-setosa\n",
       "4           5.0          3.6           1.4          0.2  Iris-setosa"
      ]
     },
     "execution_count": 3,
     "metadata": {},
     "output_type": "execute_result"
    }
   ],
   "source": [
    "iris = pd.read_csv(\"/kaggle/input/iris-flower-dataset/IRIS.csv\",encoding='latin')\n",
    "iris.head()"
   ]
  },
  {
   "cell_type": "code",
   "execution_count": 4,
   "id": "5e8461af",
   "metadata": {
    "execution": {
     "iopub.execute_input": "2024-02-27T16:03:50.591681Z",
     "iopub.status.busy": "2024-02-27T16:03:50.591194Z",
     "iopub.status.idle": "2024-02-27T16:03:51.174700Z",
     "shell.execute_reply": "2024-02-27T16:03:51.173399Z"
    },
    "papermill": {
     "duration": 0.606819,
     "end_time": "2024-02-27T16:03:51.177823",
     "exception": false,
     "start_time": "2024-02-27T16:03:50.571004",
     "status": "completed"
    },
    "tags": []
   },
   "outputs": [
    {
     "data": {
      "text/html": [
       "<div>\n",
       "<style scoped>\n",
       "    .dataframe tbody tr th:only-of-type {\n",
       "        vertical-align: middle;\n",
       "    }\n",
       "\n",
       "    .dataframe tbody tr th {\n",
       "        vertical-align: top;\n",
       "    }\n",
       "\n",
       "    .dataframe thead th {\n",
       "        text-align: right;\n",
       "    }\n",
       "</style>\n",
       "<table border=\"1\" class=\"dataframe\">\n",
       "  <thead>\n",
       "    <tr style=\"text-align: right;\">\n",
       "      <th></th>\n",
       "      <th>sepal_length</th>\n",
       "      <th>sepal_width</th>\n",
       "      <th>petal_length</th>\n",
       "      <th>petal_width</th>\n",
       "      <th>species</th>\n",
       "    </tr>\n",
       "  </thead>\n",
       "  <tbody>\n",
       "    <tr>\n",
       "      <th>0</th>\n",
       "      <td>5.1</td>\n",
       "      <td>3.5</td>\n",
       "      <td>1.4</td>\n",
       "      <td>0.2</td>\n",
       "      <td>setosa</td>\n",
       "    </tr>\n",
       "    <tr>\n",
       "      <th>1</th>\n",
       "      <td>4.9</td>\n",
       "      <td>3.0</td>\n",
       "      <td>1.4</td>\n",
       "      <td>0.2</td>\n",
       "      <td>setosa</td>\n",
       "    </tr>\n",
       "    <tr>\n",
       "      <th>2</th>\n",
       "      <td>4.7</td>\n",
       "      <td>3.2</td>\n",
       "      <td>1.3</td>\n",
       "      <td>0.2</td>\n",
       "      <td>setosa</td>\n",
       "    </tr>\n",
       "    <tr>\n",
       "      <th>3</th>\n",
       "      <td>4.6</td>\n",
       "      <td>3.1</td>\n",
       "      <td>1.5</td>\n",
       "      <td>0.2</td>\n",
       "      <td>setosa</td>\n",
       "    </tr>\n",
       "    <tr>\n",
       "      <th>4</th>\n",
       "      <td>5.0</td>\n",
       "      <td>3.6</td>\n",
       "      <td>1.4</td>\n",
       "      <td>0.2</td>\n",
       "      <td>setosa</td>\n",
       "    </tr>\n",
       "    <tr>\n",
       "      <th>...</th>\n",
       "      <td>...</td>\n",
       "      <td>...</td>\n",
       "      <td>...</td>\n",
       "      <td>...</td>\n",
       "      <td>...</td>\n",
       "    </tr>\n",
       "    <tr>\n",
       "      <th>145</th>\n",
       "      <td>6.7</td>\n",
       "      <td>3.0</td>\n",
       "      <td>5.2</td>\n",
       "      <td>2.3</td>\n",
       "      <td>virginica</td>\n",
       "    </tr>\n",
       "    <tr>\n",
       "      <th>146</th>\n",
       "      <td>6.3</td>\n",
       "      <td>2.5</td>\n",
       "      <td>5.0</td>\n",
       "      <td>1.9</td>\n",
       "      <td>virginica</td>\n",
       "    </tr>\n",
       "    <tr>\n",
       "      <th>147</th>\n",
       "      <td>6.5</td>\n",
       "      <td>3.0</td>\n",
       "      <td>5.2</td>\n",
       "      <td>2.0</td>\n",
       "      <td>virginica</td>\n",
       "    </tr>\n",
       "    <tr>\n",
       "      <th>148</th>\n",
       "      <td>6.2</td>\n",
       "      <td>3.4</td>\n",
       "      <td>5.4</td>\n",
       "      <td>2.3</td>\n",
       "      <td>virginica</td>\n",
       "    </tr>\n",
       "    <tr>\n",
       "      <th>149</th>\n",
       "      <td>5.9</td>\n",
       "      <td>3.0</td>\n",
       "      <td>5.1</td>\n",
       "      <td>1.8</td>\n",
       "      <td>virginica</td>\n",
       "    </tr>\n",
       "  </tbody>\n",
       "</table>\n",
       "<p>150 rows × 5 columns</p>\n",
       "</div>"
      ],
      "text/plain": [
       "     sepal_length  sepal_width  petal_length  petal_width    species\n",
       "0             5.1          3.5           1.4          0.2     setosa\n",
       "1             4.9          3.0           1.4          0.2     setosa\n",
       "2             4.7          3.2           1.3          0.2     setosa\n",
       "3             4.6          3.1           1.5          0.2     setosa\n",
       "4             5.0          3.6           1.4          0.2     setosa\n",
       "..            ...          ...           ...          ...        ...\n",
       "145           6.7          3.0           5.2          2.3  virginica\n",
       "146           6.3          2.5           5.0          1.9  virginica\n",
       "147           6.5          3.0           5.2          2.0  virginica\n",
       "148           6.2          3.4           5.4          2.3  virginica\n",
       "149           5.9          3.0           5.1          1.8  virginica\n",
       "\n",
       "[150 rows x 5 columns]"
      ]
     },
     "execution_count": 4,
     "metadata": {},
     "output_type": "execute_result"
    }
   ],
   "source": [
    "iris = sns.load_dataset('iris')\n",
    "iris"
   ]
  },
  {
   "cell_type": "code",
   "execution_count": 5,
   "id": "7c21b206",
   "metadata": {
    "execution": {
     "iopub.execute_input": "2024-02-27T16:03:51.205643Z",
     "iopub.status.busy": "2024-02-27T16:03:51.205197Z",
     "iopub.status.idle": "2024-02-27T16:03:51.212646Z",
     "shell.execute_reply": "2024-02-27T16:03:51.211340Z"
    },
    "papermill": {
     "duration": 0.023685,
     "end_time": "2024-02-27T16:03:51.215168",
     "exception": false,
     "start_time": "2024-02-27T16:03:51.191483",
     "status": "completed"
    },
    "tags": []
   },
   "outputs": [
    {
     "data": {
      "text/plain": [
       "(150, 5)"
      ]
     },
     "execution_count": 5,
     "metadata": {},
     "output_type": "execute_result"
    }
   ],
   "source": [
    "iris.shape"
   ]
  },
  {
   "cell_type": "markdown",
   "id": "c991a219",
   "metadata": {
    "papermill": {
     "duration": 0.012139,
     "end_time": "2024-02-27T16:03:51.240307",
     "exception": false,
     "start_time": "2024-02-27T16:03:51.228168",
     "status": "completed"
    },
    "tags": []
   },
   "source": [
    "**Understand The Dataset**"
   ]
  },
  {
   "cell_type": "code",
   "execution_count": 6,
   "id": "3f5d5678",
   "metadata": {
    "execution": {
     "iopub.execute_input": "2024-02-27T16:03:51.267748Z",
     "iopub.status.busy": "2024-02-27T16:03:51.267352Z",
     "iopub.status.idle": "2024-02-27T16:03:51.297137Z",
     "shell.execute_reply": "2024-02-27T16:03:51.295847Z"
    },
    "papermill": {
     "duration": 0.047047,
     "end_time": "2024-02-27T16:03:51.299819",
     "exception": false,
     "start_time": "2024-02-27T16:03:51.252772",
     "status": "completed"
    },
    "tags": []
   },
   "outputs": [
    {
     "name": "stdout",
     "output_type": "stream",
     "text": [
      "<class 'pandas.core.frame.DataFrame'>\n",
      "RangeIndex: 150 entries, 0 to 149\n",
      "Data columns (total 5 columns):\n",
      " #   Column        Non-Null Count  Dtype  \n",
      "---  ------        --------------  -----  \n",
      " 0   sepal_length  150 non-null    float64\n",
      " 1   sepal_width   150 non-null    float64\n",
      " 2   petal_length  150 non-null    float64\n",
      " 3   petal_width   150 non-null    float64\n",
      " 4   species       150 non-null    object \n",
      "dtypes: float64(4), object(1)\n",
      "memory usage: 6.0+ KB\n"
     ]
    }
   ],
   "source": [
    "iris.info()"
   ]
  },
  {
   "cell_type": "code",
   "execution_count": 7,
   "id": "772b12be",
   "metadata": {
    "execution": {
     "iopub.execute_input": "2024-02-27T16:03:51.327762Z",
     "iopub.status.busy": "2024-02-27T16:03:51.327349Z",
     "iopub.status.idle": "2024-02-27T16:03:51.354438Z",
     "shell.execute_reply": "2024-02-27T16:03:51.353004Z"
    },
    "papermill": {
     "duration": 0.043964,
     "end_time": "2024-02-27T16:03:51.357036",
     "exception": false,
     "start_time": "2024-02-27T16:03:51.313072",
     "status": "completed"
    },
    "tags": []
   },
   "outputs": [
    {
     "data": {
      "text/html": [
       "<div>\n",
       "<style scoped>\n",
       "    .dataframe tbody tr th:only-of-type {\n",
       "        vertical-align: middle;\n",
       "    }\n",
       "\n",
       "    .dataframe tbody tr th {\n",
       "        vertical-align: top;\n",
       "    }\n",
       "\n",
       "    .dataframe thead th {\n",
       "        text-align: right;\n",
       "    }\n",
       "</style>\n",
       "<table border=\"1\" class=\"dataframe\">\n",
       "  <thead>\n",
       "    <tr style=\"text-align: right;\">\n",
       "      <th></th>\n",
       "      <th>sepal_length</th>\n",
       "      <th>sepal_width</th>\n",
       "      <th>petal_length</th>\n",
       "      <th>petal_width</th>\n",
       "    </tr>\n",
       "  </thead>\n",
       "  <tbody>\n",
       "    <tr>\n",
       "      <th>count</th>\n",
       "      <td>150.000000</td>\n",
       "      <td>150.000000</td>\n",
       "      <td>150.000000</td>\n",
       "      <td>150.000000</td>\n",
       "    </tr>\n",
       "    <tr>\n",
       "      <th>mean</th>\n",
       "      <td>5.843333</td>\n",
       "      <td>3.057333</td>\n",
       "      <td>3.758000</td>\n",
       "      <td>1.199333</td>\n",
       "    </tr>\n",
       "    <tr>\n",
       "      <th>std</th>\n",
       "      <td>0.828066</td>\n",
       "      <td>0.435866</td>\n",
       "      <td>1.765298</td>\n",
       "      <td>0.762238</td>\n",
       "    </tr>\n",
       "    <tr>\n",
       "      <th>min</th>\n",
       "      <td>4.300000</td>\n",
       "      <td>2.000000</td>\n",
       "      <td>1.000000</td>\n",
       "      <td>0.100000</td>\n",
       "    </tr>\n",
       "    <tr>\n",
       "      <th>25%</th>\n",
       "      <td>5.100000</td>\n",
       "      <td>2.800000</td>\n",
       "      <td>1.600000</td>\n",
       "      <td>0.300000</td>\n",
       "    </tr>\n",
       "    <tr>\n",
       "      <th>50%</th>\n",
       "      <td>5.800000</td>\n",
       "      <td>3.000000</td>\n",
       "      <td>4.350000</td>\n",
       "      <td>1.300000</td>\n",
       "    </tr>\n",
       "    <tr>\n",
       "      <th>75%</th>\n",
       "      <td>6.400000</td>\n",
       "      <td>3.300000</td>\n",
       "      <td>5.100000</td>\n",
       "      <td>1.800000</td>\n",
       "    </tr>\n",
       "    <tr>\n",
       "      <th>max</th>\n",
       "      <td>7.900000</td>\n",
       "      <td>4.400000</td>\n",
       "      <td>6.900000</td>\n",
       "      <td>2.500000</td>\n",
       "    </tr>\n",
       "  </tbody>\n",
       "</table>\n",
       "</div>"
      ],
      "text/plain": [
       "       sepal_length  sepal_width  petal_length  petal_width\n",
       "count    150.000000   150.000000    150.000000   150.000000\n",
       "mean       5.843333     3.057333      3.758000     1.199333\n",
       "std        0.828066     0.435866      1.765298     0.762238\n",
       "min        4.300000     2.000000      1.000000     0.100000\n",
       "25%        5.100000     2.800000      1.600000     0.300000\n",
       "50%        5.800000     3.000000      4.350000     1.300000\n",
       "75%        6.400000     3.300000      5.100000     1.800000\n",
       "max        7.900000     4.400000      6.900000     2.500000"
      ]
     },
     "execution_count": 7,
     "metadata": {},
     "output_type": "execute_result"
    }
   ],
   "source": [
    "iris.describe()"
   ]
  },
  {
   "cell_type": "code",
   "execution_count": 8,
   "id": "c0a19b80",
   "metadata": {
    "execution": {
     "iopub.execute_input": "2024-02-27T16:03:51.384880Z",
     "iopub.status.busy": "2024-02-27T16:03:51.384453Z",
     "iopub.status.idle": "2024-02-27T16:03:51.394377Z",
     "shell.execute_reply": "2024-02-27T16:03:51.392959Z"
    },
    "papermill": {
     "duration": 0.027238,
     "end_time": "2024-02-27T16:03:51.397340",
     "exception": false,
     "start_time": "2024-02-27T16:03:51.370102",
     "status": "completed"
    },
    "tags": []
   },
   "outputs": [
    {
     "data": {
      "text/plain": [
       "sepal_length    0\n",
       "sepal_width     0\n",
       "petal_length    0\n",
       "petal_width     0\n",
       "species         0\n",
       "dtype: int64"
      ]
     },
     "execution_count": 8,
     "metadata": {},
     "output_type": "execute_result"
    }
   ],
   "source": [
    "# Checking Null values\n",
    "iris.isnull().sum()\n",
    "# There are no NULL values in the dataset, hence it is clean."
   ]
  },
  {
   "cell_type": "code",
   "execution_count": 9,
   "id": "339d89b1",
   "metadata": {
    "execution": {
     "iopub.execute_input": "2024-02-27T16:03:51.425708Z",
     "iopub.status.busy": "2024-02-27T16:03:51.425317Z",
     "iopub.status.idle": "2024-02-27T16:03:51.441616Z",
     "shell.execute_reply": "2024-02-27T16:03:51.440358Z"
    },
    "papermill": {
     "duration": 0.033242,
     "end_time": "2024-02-27T16:03:51.443938",
     "exception": false,
     "start_time": "2024-02-27T16:03:51.410696",
     "status": "completed"
    },
    "tags": []
   },
   "outputs": [
    {
     "data": {
      "text/html": [
       "<div>\n",
       "<style scoped>\n",
       "    .dataframe tbody tr th:only-of-type {\n",
       "        vertical-align: middle;\n",
       "    }\n",
       "\n",
       "    .dataframe tbody tr th {\n",
       "        vertical-align: top;\n",
       "    }\n",
       "\n",
       "    .dataframe thead th {\n",
       "        text-align: right;\n",
       "    }\n",
       "</style>\n",
       "<table border=\"1\" class=\"dataframe\">\n",
       "  <thead>\n",
       "    <tr style=\"text-align: right;\">\n",
       "      <th></th>\n",
       "      <th>petal_length</th>\n",
       "      <th>petal_width</th>\n",
       "    </tr>\n",
       "  </thead>\n",
       "  <tbody>\n",
       "    <tr>\n",
       "      <th>0</th>\n",
       "      <td>1.4</td>\n",
       "      <td>0.2</td>\n",
       "    </tr>\n",
       "    <tr>\n",
       "      <th>1</th>\n",
       "      <td>1.4</td>\n",
       "      <td>0.2</td>\n",
       "    </tr>\n",
       "    <tr>\n",
       "      <th>2</th>\n",
       "      <td>1.3</td>\n",
       "      <td>0.2</td>\n",
       "    </tr>\n",
       "    <tr>\n",
       "      <th>3</th>\n",
       "      <td>1.5</td>\n",
       "      <td>0.2</td>\n",
       "    </tr>\n",
       "    <tr>\n",
       "      <th>4</th>\n",
       "      <td>1.4</td>\n",
       "      <td>0.2</td>\n",
       "    </tr>\n",
       "    <tr>\n",
       "      <th>...</th>\n",
       "      <td>...</td>\n",
       "      <td>...</td>\n",
       "    </tr>\n",
       "    <tr>\n",
       "      <th>145</th>\n",
       "      <td>5.2</td>\n",
       "      <td>2.3</td>\n",
       "    </tr>\n",
       "    <tr>\n",
       "      <th>146</th>\n",
       "      <td>5.0</td>\n",
       "      <td>1.9</td>\n",
       "    </tr>\n",
       "    <tr>\n",
       "      <th>147</th>\n",
       "      <td>5.2</td>\n",
       "      <td>2.0</td>\n",
       "    </tr>\n",
       "    <tr>\n",
       "      <th>148</th>\n",
       "      <td>5.4</td>\n",
       "      <td>2.3</td>\n",
       "    </tr>\n",
       "    <tr>\n",
       "      <th>149</th>\n",
       "      <td>5.1</td>\n",
       "      <td>1.8</td>\n",
       "    </tr>\n",
       "  </tbody>\n",
       "</table>\n",
       "<p>150 rows × 2 columns</p>\n",
       "</div>"
      ],
      "text/plain": [
       "     petal_length  petal_width\n",
       "0             1.4          0.2\n",
       "1             1.4          0.2\n",
       "2             1.3          0.2\n",
       "3             1.5          0.2\n",
       "4             1.4          0.2\n",
       "..            ...          ...\n",
       "145           5.2          2.3\n",
       "146           5.0          1.9\n",
       "147           5.2          2.0\n",
       "148           5.4          2.3\n",
       "149           5.1          1.8\n",
       "\n",
       "[150 rows x 2 columns]"
      ]
     },
     "execution_count": 9,
     "metadata": {},
     "output_type": "execute_result"
    }
   ],
   "source": [
    "iris = iris[[\"petal_length\",\"petal_width\"]]\n",
    "iris"
   ]
  },
  {
   "cell_type": "code",
   "execution_count": 10,
   "id": "1d96c206",
   "metadata": {
    "execution": {
     "iopub.execute_input": "2024-02-27T16:03:51.474639Z",
     "iopub.status.busy": "2024-02-27T16:03:51.474220Z",
     "iopub.status.idle": "2024-02-27T16:03:51.480039Z",
     "shell.execute_reply": "2024-02-27T16:03:51.479272Z"
    },
    "papermill": {
     "duration": 0.023771,
     "end_time": "2024-02-27T16:03:51.482309",
     "exception": false,
     "start_time": "2024-02-27T16:03:51.458538",
     "status": "completed"
    },
    "tags": []
   },
   "outputs": [
    {
     "data": {
      "text/plain": [
       "(150, 2)"
      ]
     },
     "execution_count": 10,
     "metadata": {},
     "output_type": "execute_result"
    }
   ],
   "source": [
    "iris.shape"
   ]
  },
  {
   "cell_type": "code",
   "execution_count": 11,
   "id": "1a642c80",
   "metadata": {
    "execution": {
     "iopub.execute_input": "2024-02-27T16:03:51.511900Z",
     "iopub.status.busy": "2024-02-27T16:03:51.511419Z",
     "iopub.status.idle": "2024-02-27T16:03:51.729273Z",
     "shell.execute_reply": "2024-02-27T16:03:51.727559Z"
    },
    "papermill": {
     "duration": 0.235478,
     "end_time": "2024-02-27T16:03:51.731824",
     "exception": false,
     "start_time": "2024-02-27T16:03:51.496346",
     "status": "completed"
    },
    "tags": []
   },
   "outputs": [
    {
     "data": {
      "image/png": "[encoded data removed]",
      "text/plain": [
       "<Figure size 640x480 with 1 Axes>"
      ]
     },
     "metadata": {},
     "output_type": "display_data"
    }
   ],
   "source": [
    "# to check the Outlier\n",
    "iris.plot(kind=\"box\")\n",
    "plt.show()"
   ]
  },
  {
   "cell_type": "markdown",
   "id": "87693891",
   "metadata": {
    "papermill": {
     "duration": 0.013873,
     "end_time": "2024-02-27T16:03:51.759528",
     "exception": false,
     "start_time": "2024-02-27T16:03:51.745655",
     "status": "completed"
    },
    "tags": []
   },
   "source": [
    "**To Find The Correlation Coefficient**"
   ]
  },
  {
   "cell_type": "code",
   "execution_count": 12,
   "id": "caf12381",
   "metadata": {
    "execution": {
     "iopub.execute_input": "2024-02-27T16:03:51.788787Z",
     "iopub.status.busy": "2024-02-27T16:03:51.788333Z",
     "iopub.status.idle": "2024-02-27T16:03:51.800954Z",
     "shell.execute_reply": "2024-02-27T16:03:51.799957Z"
    },
    "papermill": {
     "duration": 0.029705,
     "end_time": "2024-02-27T16:03:51.803043",
     "exception": false,
     "start_time": "2024-02-27T16:03:51.773338",
     "status": "completed"
    },
    "tags": []
   },
   "outputs": [
    {
     "data": {
      "text/html": [
       "<div>\n",
       "<style scoped>\n",
       "    .dataframe tbody tr th:only-of-type {\n",
       "        vertical-align: middle;\n",
       "    }\n",
       "\n",
       "    .dataframe tbody tr th {\n",
       "        vertical-align: top;\n",
       "    }\n",
       "\n",
       "    .dataframe thead th {\n",
       "        text-align: right;\n",
       "    }\n",
       "</style>\n",
       "<table border=\"1\" class=\"dataframe\">\n",
       "  <thead>\n",
       "    <tr style=\"text-align: right;\">\n",
       "      <th></th>\n",
       "      <th>petal_length</th>\n",
       "      <th>petal_width</th>\n",
       "    </tr>\n",
       "  </thead>\n",
       "  <tbody>\n",
       "    <tr>\n",
       "      <th>petal_length</th>\n",
       "      <td>1.000000</td>\n",
       "      <td>0.962865</td>\n",
       "    </tr>\n",
       "    <tr>\n",
       "      <th>petal_width</th>\n",
       "      <td>0.962865</td>\n",
       "      <td>1.000000</td>\n",
       "    </tr>\n",
       "  </tbody>\n",
       "</table>\n",
       "</div>"
      ],
      "text/plain": [
       "              petal_length  petal_width\n",
       "petal_length      1.000000     0.962865\n",
       "petal_width       0.962865     1.000000"
      ]
     },
     "execution_count": 12,
     "metadata": {},
     "output_type": "execute_result"
    }
   ],
   "source": [
    "iris.corr()"
   ]
  },
  {
   "cell_type": "code",
   "execution_count": 13,
   "id": "b4b1fb5f",
   "metadata": {
    "execution": {
     "iopub.execute_input": "2024-02-27T16:03:51.832778Z",
     "iopub.status.busy": "2024-02-27T16:03:51.832382Z",
     "iopub.status.idle": "2024-02-27T16:03:51.837845Z",
     "shell.execute_reply": "2024-02-27T16:03:51.836456Z"
    },
    "papermill": {
     "duration": 0.023436,
     "end_time": "2024-02-27T16:03:51.840390",
     "exception": false,
     "start_time": "2024-02-27T16:03:51.816954",
     "status": "completed"
    },
    "tags": []
   },
   "outputs": [],
   "source": [
    "x = iris[\"petal_length\"]\n",
    "y = iris[\"petal_width\"]"
   ]
  },
  {
   "cell_type": "code",
   "execution_count": 14,
   "id": "8868b1a4",
   "metadata": {
    "execution": {
     "iopub.execute_input": "2024-02-27T16:03:51.871159Z",
     "iopub.status.busy": "2024-02-27T16:03:51.870758Z",
     "iopub.status.idle": "2024-02-27T16:03:52.087441Z",
     "shell.execute_reply": "2024-02-27T16:03:52.086228Z"
    },
    "papermill": {
     "duration": 0.235363,
     "end_time": "2024-02-27T16:03:52.090060",
     "exception": false,
     "start_time": "2024-02-27T16:03:51.854697",
     "status": "completed"
    },
    "tags": []
   },
   "outputs": [
    {
     "data": {
      "image/png": "[encoded data removed]",
      "text/plain": [
       "<Figure size 640x480 with 1 Axes>"
      ]
     },
     "metadata": {},
     "output_type": "display_data"
    }
   ],
   "source": [
    "plt.scatter(x,y)\n",
    "plt.xlabel(\"petal_length\")\n",
    "plt.xlabel(\"petal_width\")\n",
    "plt.show()"
   ]
  },
  {
   "cell_type": "markdown",
   "id": "1ea77006",
   "metadata": {
    "papermill": {
     "duration": 0.013956,
     "end_time": "2024-02-27T16:03:52.118444",
     "exception": false,
     "start_time": "2024-02-27T16:03:52.104488",
     "status": "completed"
    },
    "tags": []
   },
   "source": [
    "**Splitting The Dataset Into Train data and Test data**"
   ]
  },
  {
   "cell_type": "code",
   "execution_count": 15,
   "id": "c4af5ce8",
   "metadata": {
    "execution": {
     "iopub.execute_input": "2024-02-27T16:03:52.149067Z",
     "iopub.status.busy": "2024-02-27T16:03:52.148674Z",
     "iopub.status.idle": "2024-02-27T16:03:52.160163Z",
     "shell.execute_reply": "2024-02-27T16:03:52.159094Z"
    },
    "papermill": {
     "duration": 0.029662,
     "end_time": "2024-02-27T16:03:52.162504",
     "exception": false,
     "start_time": "2024-02-27T16:03:52.132842",
     "status": "completed"
    },
    "tags": []
   },
   "outputs": [
    {
     "data": {
      "text/plain": [
       "95     4.2\n",
       "88     4.1\n",
       "0      1.4\n",
       "46     1.6\n",
       "11     1.6\n",
       "      ... \n",
       "22     1.0\n",
       "75     4.4\n",
       "137    5.5\n",
       "15     1.5\n",
       "99     4.1\n",
       "Name: petal_length, Length: 120, dtype: float64"
      ]
     },
     "execution_count": 15,
     "metadata": {},
     "output_type": "execute_result"
    }
   ],
   "source": [
    "x_train,x_test,y_train,y_test = train_test_split(x,y,test_size = 0.2 , random_state=20)\n",
    "x_train"
   ]
  },
  {
   "cell_type": "markdown",
   "id": "c46841b9",
   "metadata": {
    "papermill": {
     "duration": 0.014538,
     "end_time": "2024-02-27T16:03:52.191905",
     "exception": false,
     "start_time": "2024-02-27T16:03:52.177367",
     "status": "completed"
    },
    "tags": []
   },
   "source": [
    "**Changing The Input Data Into Two Dimensional Array**"
   ]
  },
  {
   "cell_type": "code",
   "execution_count": 16,
   "id": "bbb90544",
   "metadata": {
    "execution": {
     "iopub.execute_input": "2024-02-27T16:03:52.223103Z",
     "iopub.status.busy": "2024-02-27T16:03:52.222672Z",
     "iopub.status.idle": "2024-02-27T16:03:52.232820Z",
     "shell.execute_reply": "2024-02-27T16:03:52.231586Z"
    },
    "papermill": {
     "duration": 0.028573,
     "end_time": "2024-02-27T16:03:52.235194",
     "exception": false,
     "start_time": "2024-02-27T16:03:52.206621",
     "status": "completed"
    },
    "tags": []
   },
   "outputs": [
    {
     "data": {
      "text/plain": [
       "array([[4.2],\n",
       "       [4.1],\n",
       "       [1.4],\n",
       "       [1.6],\n",
       "       [1.6],\n",
       "       [4.5],\n",
       "       [4.5],\n",
       "       [1.4],\n",
       "       [4.5],\n",
       "       [6.1],\n",
       "       [4.5],\n",
       "       [5.6],\n",
       "       [1.4],\n",
       "       [4.4],\n",
       "       [4.7],\n",
       "       [1.3],\n",
       "       [1.7],\n",
       "       [1.4],\n",
       "       [5. ],\n",
       "       [1.9],\n",
       "       [5.6],\n",
       "       [5.4],\n",
       "       [1.5],\n",
       "       [6. ],\n",
       "       [4. ],\n",
       "       [3.6],\n",
       "       [4.5],\n",
       "       [1.3],\n",
       "       [1.5],\n",
       "       [3.8],\n",
       "       [4.3],\n",
       "       [4. ],\n",
       "       [3.9],\n",
       "       [4.7],\n",
       "       [4.6],\n",
       "       [4.2],\n",
       "       [1.7],\n",
       "       [4.5],\n",
       "       [4.4],\n",
       "       [1.5],\n",
       "       [1.3],\n",
       "       [4.5],\n",
       "       [4. ],\n",
       "       [4.6],\n",
       "       [1.5],\n",
       "       [1.5],\n",
       "       [5.3],\n",
       "       [1.3],\n",
       "       [1.6],\n",
       "       [3.5],\n",
       "       [4.8],\n",
       "       [5.1],\n",
       "       [4.9],\n",
       "       [5.6],\n",
       "       [5.6],\n",
       "       [5.9],\n",
       "       [3.9],\n",
       "       [5.5],\n",
       "       [6.1],\n",
       "       [6.1],\n",
       "       [1.4],\n",
       "       [5.5],\n",
       "       [1.5],\n",
       "       [1.4],\n",
       "       [1.2],\n",
       "       [5.2],\n",
       "       [4.9],\n",
       "       [4.8],\n",
       "       [5.4],\n",
       "       [4.9],\n",
       "       [4.2],\n",
       "       [1.3],\n",
       "       [4.9],\n",
       "       [1.4],\n",
       "       [3.3],\n",
       "       [6.7],\n",
       "       [1.9],\n",
       "       [4.5],\n",
       "       [4.7],\n",
       "       [4.8],\n",
       "       [1.4],\n",
       "       [1.6],\n",
       "       [6. ],\n",
       "       [5.7],\n",
       "       [3.9],\n",
       "       [4.4],\n",
       "       [3.5],\n",
       "       [5.7],\n",
       "       [5.6],\n",
       "       [1.6],\n",
       "       [5.7],\n",
       "       [1.4],\n",
       "       [5. ],\n",
       "       [1.5],\n",
       "       [1.7],\n",
       "       [5. ],\n",
       "       [5.6],\n",
       "       [6.3],\n",
       "       [1.5],\n",
       "       [1.5],\n",
       "       [5.1],\n",
       "       [5.1],\n",
       "       [4.2],\n",
       "       [6.4],\n",
       "       [1.6],\n",
       "       [5.1],\n",
       "       [1.4],\n",
       "       [1.5],\n",
       "       [5.1],\n",
       "       [6.6],\n",
       "       [1.3],\n",
       "       [1.6],\n",
       "       [1.3],\n",
       "       [6.9],\n",
       "       [4. ],\n",
       "       [1. ],\n",
       "       [4.4],\n",
       "       [5.5],\n",
       "       [1.5],\n",
       "       [4.1]])"
      ]
     },
     "execution_count": 16,
     "metadata": {},
     "output_type": "execute_result"
    }
   ],
   "source": [
    "x_train = np.array(x_train).reshape(-1,1)\n",
    "x_train"
   ]
  },
  {
   "cell_type": "code",
   "execution_count": 17,
   "id": "961b7659",
   "metadata": {
    "execution": {
     "iopub.execute_input": "2024-02-27T16:03:52.267204Z",
     "iopub.status.busy": "2024-02-27T16:03:52.266751Z",
     "iopub.status.idle": "2024-02-27T16:03:52.275768Z",
     "shell.execute_reply": "2024-02-27T16:03:52.274403Z"
    },
    "papermill": {
     "duration": 0.028189,
     "end_time": "2024-02-27T16:03:52.278161",
     "exception": false,
     "start_time": "2024-02-27T16:03:52.249972",
     "status": "completed"
    },
    "tags": []
   },
   "outputs": [
    {
     "data": {
      "text/plain": [
       "array([[1.4],\n",
       "       [4.7],\n",
       "       [4.3],\n",
       "       [5.8],\n",
       "       [4.1],\n",
       "       [4. ],\n",
       "       [5.9],\n",
       "       [1.5],\n",
       "       [5.8],\n",
       "       [1.4],\n",
       "       [5.2],\n",
       "       [4.8],\n",
       "       [5. ],\n",
       "       [1.2],\n",
       "       [1.4],\n",
       "       [6.7],\n",
       "       [1.1],\n",
       "       [4.6],\n",
       "       [5.1],\n",
       "       [3.3],\n",
       "       [4.7],\n",
       "       [5.1],\n",
       "       [5.3],\n",
       "       [1.7],\n",
       "       [4.9],\n",
       "       [3.7],\n",
       "       [3. ],\n",
       "       [1.5],\n",
       "       [5.8],\n",
       "       [5.1]])"
      ]
     },
     "execution_count": 17,
     "metadata": {},
     "output_type": "execute_result"
    }
   ],
   "source": [
    "x_test = np.array(x_test).reshape(-1,1)\n",
    "x_test"
   ]
  },
  {
   "cell_type": "markdown",
   "id": "d2ab4fa6",
   "metadata": {
    "papermill": {
     "duration": 0.014639,
     "end_time": "2024-02-27T16:03:52.307763",
     "exception": false,
     "start_time": "2024-02-27T16:03:52.293124",
     "status": "completed"
    },
    "tags": []
   },
   "source": [
    "**To Implement The Linear Regression**"
   ]
  },
  {
   "cell_type": "code",
   "execution_count": 18,
   "id": "7d67f78c",
   "metadata": {
    "execution": {
     "iopub.execute_input": "2024-02-27T16:03:52.339212Z",
     "iopub.status.busy": "2024-02-27T16:03:52.338796Z",
     "iopub.status.idle": "2024-02-27T16:03:52.362843Z",
     "shell.execute_reply": "2024-02-27T16:03:52.361661Z"
    },
    "papermill": {
     "duration": 0.04285,
     "end_time": "2024-02-27T16:03:52.365403",
     "exception": false,
     "start_time": "2024-02-27T16:03:52.322553",
     "status": "completed"
    },
    "tags": []
   },
   "outputs": [
    {
     "data": {
      "text/html": [
       "<style>#sk-container-id-1 {color: black;background-color: white;}#sk-container-id-1 pre{padding: 0;}#sk-container-id-1 div.sk-toggleable {background-color: white;}#sk-container-id-1 label.sk-toggleable__label {cursor: pointer;display: block;width: 100%;margin-bottom: 0;padding: 0.3em;box-sizing: border-box;text-align: center;}#sk-container-id-1 label.sk-toggleable__label-arrow:before {content: \"▸\";float: left;margin-right: 0.25em;color: #696969;}#sk-container-id-1 label.sk-toggleable__label-arrow:hover:before {color: black;}#sk-container-id-1 div.sk-estimator:hover label.sk-toggleable__label-arrow:before {color: black;}#sk-container-id-1 div.sk-toggleable__content {max-height: 0;max-width: 0;overflow: hidden;text-align: left;background-color: #f0f8ff;}#sk-container-id-1 div.sk-toggleable__content pre {margin: 0.2em;color: black;border-radius: 0.25em;background-color: #f0f8ff;}#sk-container-id-1 input.sk-toggleable__control:checked~div.sk-toggleable__content {max-height: 200px;max-width: 100%;overflow: auto;}#sk-container-id-1 input.sk-toggleable__control:checked~label.sk-toggleable__label-arrow:before {content: \"▾\";}#sk-container-id-1 div.sk-estimator input.sk-toggleable__control:checked~label.sk-toggleable__label {background-color: #d4ebff;}#sk-container-id-1 div.sk-label input.sk-toggleable__control:checked~label.sk-toggleable__label {background-color: #d4ebff;}#sk-container-id-1 input.sk-hidden--visually {border: 0;clip: rect(1px 1px 1px 1px);clip: rect(1px, 1px, 1px, 1px);height: 1px;margin: -1px;overflow: hidden;padding: 0;position: absolute;width: 1px;}#sk-container-id-1 div.sk-estimator {font-family: monospace;background-color: #f0f8ff;border: 1px dotted black;border-radius: 0.25em;box-sizing: border-box;margin-bottom: 0.5em;}#sk-container-id-1 div.sk-estimator:hover {background-color: #d4ebff;}#sk-container-id-1 div.sk-parallel-item::after {content: \"\";width: 100%;border-bottom: 1px solid gray;flex-grow: 1;}#sk-container-id-1 div.sk-label:hover label.sk-toggleable__label {background-color: #d4ebff;}#sk-container-id-1 div.sk-serial::before {content: \"\";position: absolute;border-left: 1px solid gray;box-sizing: border-box;top: 0;bottom: 0;left: 50%;z-index: 0;}#sk-container-id-1 div.sk-serial {display: flex;flex-direction: column;align-items: center;background-color: white;padding-right: 0.2em;padding-left: 0.2em;position: relative;}#sk-container-id-1 div.sk-item {position: relative;z-index: 1;}#sk-container-id-1 div.sk-parallel {display: flex;align-items: stretch;justify-content: center;background-color: white;position: relative;}#sk-container-id-1 div.sk-item::before, #sk-container-id-1 div.sk-parallel-item::before {content: \"\";position: absolute;border-left: 1px solid gray;box-sizing: border-box;top: 0;bottom: 0;left: 50%;z-index: -1;}#sk-container-id-1 div.sk-parallel-item {display: flex;flex-direction: column;z-index: 1;position: relative;background-color: white;}#sk-container-id-1 div.sk-parallel-item:first-child::after {align-self: flex-end;width: 50%;}#sk-container-id-1 div.sk-parallel-item:last-child::after {align-self: flex-start;width: 50%;}#sk-container-id-1 div.sk-parallel-item:only-child::after {width: 0;}#sk-container-id-1 div.sk-dashed-wrapped {border: 1px dashed gray;margin: 0 0.4em 0.5em 0.4em;box-sizing: border-box;padding-bottom: 0.4em;background-color: white;}#sk-container-id-1 div.sk-label label {font-family: monospace;font-weight: bold;display: inline-block;line-height: 1.2em;}#sk-container-id-1 div.sk-label-container {text-align: center;}#sk-container-id-1 div.sk-container {/* jupyter's `normalize.less` sets `[hidden] { display: none; }` but bootstrap.min.css set `[hidden] { display: none !important; }` so we also need the `!important` here to be able to override the default hidden behavior on the sphinx rendered scikit-learn.org. See: https://github.com/scikit-learn/scikit-learn/issues/21755 */display: inline-block !important;position: relative;}#sk-container-id-1 div.sk-text-repr-fallback {display: none;}</style><div id=\"sk-container-id-1\" class=\"sk-top-container\"><div class=\"sk-text-repr-fallback\"><pre>LinearRegression()</pre><b>In a Jupyter environment, please rerun this cell to show the HTML representation or trust the notebook. <br />On GitHub, the HTML representation is unable to render, please try loading this page with nbviewer.org.</b></div><div class=\"sk-container\" hidden><div class=\"sk-item\"><div class=\"sk-estimator sk-toggleable\"><input class=\"sk-toggleable__control sk-hidden--visually\" id=\"sk-estimator-id-1\" type=\"checkbox\" checked><label for=\"sk-estimator-id-1\" class=\"sk-toggleable__label sk-toggleable__label-arrow\">LinearRegression</label><div class=\"sk-toggleable__content\"><pre>LinearRegression()</pre></div></div></div></div></div>"
      ],
      "text/plain": [
       "LinearRegression()"
      ]
     },
     "execution_count": 18,
     "metadata": {},
     "output_type": "execute_result"
    }
   ],
   "source": [
    "lr= LinearRegression()\n",
    "lr.fit(x_train,y_train)"
   ]
  },
  {
   "cell_type": "code",
   "execution_count": 19,
   "id": "23234074",
   "metadata": {
    "execution": {
     "iopub.execute_input": "2024-02-27T16:03:52.398035Z",
     "iopub.status.busy": "2024-02-27T16:03:52.397595Z",
     "iopub.status.idle": "2024-02-27T16:03:52.405082Z",
     "shell.execute_reply": "2024-02-27T16:03:52.403981Z"
    },
    "papermill": {
     "duration": 0.026778,
     "end_time": "2024-02-27T16:03:52.407525",
     "exception": false,
     "start_time": "2024-02-27T16:03:52.380747",
     "status": "completed"
    },
    "tags": []
   },
   "outputs": [
    {
     "data": {
      "text/plain": [
       "-0.37054437192218637"
      ]
     },
     "execution_count": 19,
     "metadata": {},
     "output_type": "execute_result"
    }
   ],
   "source": [
    "#To find the intercept\n",
    "c = lr.intercept_\n",
    "c"
   ]
  },
  {
   "cell_type": "code",
   "execution_count": 20,
   "id": "9fae2051",
   "metadata": {
    "execution": {
     "iopub.execute_input": "2024-02-27T16:03:52.440904Z",
     "iopub.status.busy": "2024-02-27T16:03:52.440095Z",
     "iopub.status.idle": "2024-02-27T16:03:52.447138Z",
     "shell.execute_reply": "2024-02-27T16:03:52.446056Z"
    },
    "papermill": {
     "duration": 0.026629,
     "end_time": "2024-02-27T16:03:52.449640",
     "exception": false,
     "start_time": "2024-02-27T16:03:52.423011",
     "status": "completed"
    },
    "tags": []
   },
   "outputs": [
    {
     "data": {
      "text/plain": [
       "array([0.42249848])"
      ]
     },
     "execution_count": 20,
     "metadata": {},
     "output_type": "execute_result"
    }
   ],
   "source": [
    "#To find the coefficient\n",
    "m=lr.coef_\n",
    "m"
   ]
  },
  {
   "cell_type": "markdown",
   "id": "42611ed1",
   "metadata": {
    "papermill": {
     "duration": 0.015914,
     "end_time": "2024-02-27T16:03:52.481683",
     "exception": false,
     "start_time": "2024-02-27T16:03:52.465769",
     "status": "completed"
    },
    "tags": []
   },
   "source": [
    "**To predict the Simple Linear Regression**"
   ]
  },
  {
   "cell_type": "code",
   "execution_count": 21,
   "id": "bca69fd4",
   "metadata": {
    "execution": {
     "iopub.execute_input": "2024-02-27T16:03:52.514776Z",
     "iopub.status.busy": "2024-02-27T16:03:52.514350Z",
     "iopub.status.idle": "2024-02-27T16:03:52.525224Z",
     "shell.execute_reply": "2024-02-27T16:03:52.523749Z"
    },
    "papermill": {
     "duration": 0.030481,
     "end_time": "2024-02-27T16:03:52.527879",
     "exception": false,
     "start_time": "2024-02-27T16:03:52.497398",
     "status": "completed"
    },
    "tags": []
   },
   "outputs": [
    {
     "data": {
      "text/plain": [
       "array([1.40394926, 1.36169941, 0.22095351, 0.3054532 , 0.3054532 ,\n",
       "       1.53069881, 1.53069881, 0.22095351, 1.53069881, 2.20669638,\n",
       "       1.53069881, 1.99544714, 0.22095351, 1.48844896, 1.6151985 ,\n",
       "       0.17870366, 0.34770305, 0.22095351, 1.74194805, 0.43220275,\n",
       "       1.99544714, 1.91094744, 0.26320335, 2.16444653, 1.31944957,\n",
       "       1.15045017, 1.53069881, 0.17870366, 0.26320335, 1.23494987,\n",
       "       1.44619911, 1.31944957, 1.27719972, 1.6151985 , 1.57294866,\n",
       "       1.40394926, 0.34770305, 1.53069881, 1.48844896, 0.26320335,\n",
       "       0.17870366, 1.53069881, 1.31944957, 1.57294866, 0.26320335,\n",
       "       0.26320335, 1.8686976 , 0.17870366, 0.3054532 , 1.10820032,\n",
       "       1.65744835, 1.7841979 , 1.6996982 , 1.99544714, 1.99544714,\n",
       "       2.12219669, 1.27719972, 1.95319729, 2.20669638, 2.20669638,\n",
       "       0.22095351, 1.95319729, 0.26320335, 0.22095351, 0.13645381,\n",
       "       1.82644775, 1.6996982 , 1.65744835, 1.91094744, 1.6996982 ,\n",
       "       1.40394926, 0.17870366, 1.6996982 , 0.22095351, 1.02370063,\n",
       "       2.46019547, 0.43220275, 1.53069881, 1.6151985 , 1.65744835,\n",
       "       0.22095351, 0.3054532 , 2.16444653, 2.03769699, 1.27719972,\n",
       "       1.48844896, 1.10820032, 2.03769699, 1.99544714, 0.3054532 ,\n",
       "       2.03769699, 0.22095351, 1.74194805, 0.26320335, 0.34770305,\n",
       "       1.74194805, 1.99544714, 2.29119608, 0.26320335, 0.26320335,\n",
       "       1.7841979 , 1.7841979 , 1.40394926, 2.33344593, 0.3054532 ,\n",
       "       1.7841979 , 0.22095351, 0.26320335, 1.7841979 , 2.41794562,\n",
       "       0.17870366, 0.3054532 , 0.17870366, 2.54469517, 1.31944957,\n",
       "       0.05195411, 1.48844896, 1.95319729, 0.26320335, 1.36169941])"
      ]
     },
     "execution_count": 21,
     "metadata": {},
     "output_type": "execute_result"
    }
   ],
   "source": [
    "y_train_predict = lr.predict(x_train)\n",
    "y_train_predict"
   ]
  },
  {
   "cell_type": "code",
   "execution_count": 22,
   "id": "d07acf9f",
   "metadata": {
    "execution": {
     "iopub.execute_input": "2024-02-27T16:03:52.561825Z",
     "iopub.status.busy": "2024-02-27T16:03:52.561384Z",
     "iopub.status.idle": "2024-02-27T16:03:52.768257Z",
     "shell.execute_reply": "2024-02-27T16:03:52.767081Z"
    },
    "papermill": {
     "duration": 0.226784,
     "end_time": "2024-02-27T16:03:52.771046",
     "exception": false,
     "start_time": "2024-02-27T16:03:52.544262",
     "status": "completed"
    },
    "tags": []
   },
   "outputs": [
    {
     "data": {
      "image/png": "[encoded data removed]",
      "text/plain": [
       "<Figure size 640x480 with 1 Axes>"
      ]
     },
     "metadata": {},
     "output_type": "display_data"
    }
   ],
   "source": [
    "plt.scatter(x_train,y_train)\n",
    "plt.xlabel(\"Petal Length\")\n",
    "plt.ylabel(\"Petal Width\")\n",
    "plt.show()"
   ]
  },
  {
   "cell_type": "code",
   "execution_count": 23,
   "id": "5df64a48",
   "metadata": {
    "execution": {
     "iopub.execute_input": "2024-02-27T16:03:52.806199Z",
     "iopub.status.busy": "2024-02-27T16:03:52.805805Z",
     "iopub.status.idle": "2024-02-27T16:03:53.018482Z",
     "shell.execute_reply": "2024-02-27T16:03:53.017081Z"
    },
    "papermill": {
     "duration": 0.233614,
     "end_time": "2024-02-27T16:03:53.021214",
     "exception": false,
     "start_time": "2024-02-27T16:03:52.787600",
     "status": "completed"
    },
    "tags": []
   },
   "outputs": [
    {
     "data": {
      "image/png": "[encoded data removed]",
      "text/plain": [
       "<Figure size 640x480 with 1 Axes>"
      ]
     },
     "metadata": {},
     "output_type": "display_data"
    }
   ],
   "source": [
    "plt.scatter(x_train,y_train)\n",
    "plt.scatter(x_train,y_train_predict)\n",
    "plt.xlabel(\"Petal Length\")\n",
    "plt.ylabel(\"Petal Width\")\n",
    "plt.show()"
   ]
  },
  {
   "cell_type": "code",
   "execution_count": 24,
   "id": "543eab70",
   "metadata": {
    "execution": {
     "iopub.execute_input": "2024-02-27T16:03:53.057003Z",
     "iopub.status.busy": "2024-02-27T16:03:53.056590Z",
     "iopub.status.idle": "2024-02-27T16:03:53.273370Z",
     "shell.execute_reply": "2024-02-27T16:03:53.272210Z"
    },
    "papermill": {
     "duration": 0.237478,
     "end_time": "2024-02-27T16:03:53.275749",
     "exception": false,
     "start_time": "2024-02-27T16:03:53.038271",
     "status": "completed"
    },
    "tags": []
   },
   "outputs": [
    {
     "data": {
      "image/png": "[encoded data removed]",
      "text/plain": [
       "<Figure size 640x480 with 1 Axes>"
      ]
     },
     "metadata": {},
     "output_type": "display_data"
    }
   ],
   "source": [
    "plt.scatter(x_train,y_train)\n",
    "plt.scatter(x_train,y_train_predict)\n",
    "plt.plot(x_train,y_train_predict,color=\"black\")\n",
    "plt.xlabel(\"Petal Length\")\n",
    "plt.ylabel(\"Petal Width\")\n",
    "plt.show()"
   ]
  },
  {
   "cell_type": "markdown",
   "id": "c93f771e",
   "metadata": {
    "papermill": {
     "duration": 0.016857,
     "end_time": "2024-02-27T16:03:53.309688",
     "exception": false,
     "start_time": "2024-02-27T16:03:53.292831",
     "status": "completed"
    },
    "tags": []
   },
   "source": [
    "**To Predict The Test data**"
   ]
  },
  {
   "cell_type": "code",
   "execution_count": 25,
   "id": "087649e1",
   "metadata": {
    "execution": {
     "iopub.execute_input": "2024-02-27T16:03:53.346539Z",
     "iopub.status.busy": "2024-02-27T16:03:53.345222Z",
     "iopub.status.idle": "2024-02-27T16:03:53.360519Z",
     "shell.execute_reply": "2024-02-27T16:03:53.359165Z"
    },
    "papermill": {
     "duration": 0.036309,
     "end_time": "2024-02-27T16:03:53.363087",
     "exception": false,
     "start_time": "2024-02-27T16:03:53.326778",
     "status": "completed"
    },
    "tags": []
   },
   "outputs": [
    {
     "data": {
      "text/html": [
       "<div>\n",
       "<style scoped>\n",
       "    .dataframe tbody tr th:only-of-type {\n",
       "        vertical-align: middle;\n",
       "    }\n",
       "\n",
       "    .dataframe tbody tr th {\n",
       "        vertical-align: top;\n",
       "    }\n",
       "\n",
       "    .dataframe thead th {\n",
       "        text-align: right;\n",
       "    }\n",
       "</style>\n",
       "<table border=\"1\" class=\"dataframe\">\n",
       "  <thead>\n",
       "    <tr style=\"text-align: right;\">\n",
       "      <th></th>\n",
       "      <th>petal_length</th>\n",
       "      <th>petal_width</th>\n",
       "    </tr>\n",
       "  </thead>\n",
       "  <tbody>\n",
       "    <tr>\n",
       "      <th>0</th>\n",
       "      <td>1.4</td>\n",
       "      <td>0.2</td>\n",
       "    </tr>\n",
       "    <tr>\n",
       "      <th>1</th>\n",
       "      <td>1.4</td>\n",
       "      <td>0.2</td>\n",
       "    </tr>\n",
       "    <tr>\n",
       "      <th>2</th>\n",
       "      <td>1.3</td>\n",
       "      <td>0.2</td>\n",
       "    </tr>\n",
       "    <tr>\n",
       "      <th>3</th>\n",
       "      <td>1.5</td>\n",
       "      <td>0.2</td>\n",
       "    </tr>\n",
       "    <tr>\n",
       "      <th>4</th>\n",
       "      <td>1.4</td>\n",
       "      <td>0.2</td>\n",
       "    </tr>\n",
       "    <tr>\n",
       "      <th>...</th>\n",
       "      <td>...</td>\n",
       "      <td>...</td>\n",
       "    </tr>\n",
       "    <tr>\n",
       "      <th>145</th>\n",
       "      <td>5.2</td>\n",
       "      <td>2.3</td>\n",
       "    </tr>\n",
       "    <tr>\n",
       "      <th>146</th>\n",
       "      <td>5.0</td>\n",
       "      <td>1.9</td>\n",
       "    </tr>\n",
       "    <tr>\n",
       "      <th>147</th>\n",
       "      <td>5.2</td>\n",
       "      <td>2.0</td>\n",
       "    </tr>\n",
       "    <tr>\n",
       "      <th>148</th>\n",
       "      <td>5.4</td>\n",
       "      <td>2.3</td>\n",
       "    </tr>\n",
       "    <tr>\n",
       "      <th>149</th>\n",
       "      <td>5.1</td>\n",
       "      <td>1.8</td>\n",
       "    </tr>\n",
       "  </tbody>\n",
       "</table>\n",
       "<p>150 rows × 2 columns</p>\n",
       "</div>"
      ],
      "text/plain": [
       "     petal_length  petal_width\n",
       "0             1.4          0.2\n",
       "1             1.4          0.2\n",
       "2             1.3          0.2\n",
       "3             1.5          0.2\n",
       "4             1.4          0.2\n",
       "..            ...          ...\n",
       "145           5.2          2.3\n",
       "146           5.0          1.9\n",
       "147           5.2          2.0\n",
       "148           5.4          2.3\n",
       "149           5.1          1.8\n",
       "\n",
       "[150 rows x 2 columns]"
      ]
     },
     "execution_count": 25,
     "metadata": {},
     "output_type": "execute_result"
    }
   ],
   "source": [
    "iris"
   ]
  },
  {
   "cell_type": "code",
   "execution_count": 26,
   "id": "36a9bafa",
   "metadata": {
    "execution": {
     "iopub.execute_input": "2024-02-27T16:03:53.400198Z",
     "iopub.status.busy": "2024-02-27T16:03:53.399798Z",
     "iopub.status.idle": "2024-02-27T16:03:53.407387Z",
     "shell.execute_reply": "2024-02-27T16:03:53.406265Z"
    },
    "papermill": {
     "duration": 0.02914,
     "end_time": "2024-02-27T16:03:53.409742",
     "exception": false,
     "start_time": "2024-02-27T16:03:53.380602",
     "status": "completed"
    },
    "tags": []
   },
   "outputs": [
    {
     "data": {
      "text/plain": [
       "array([[1.4],\n",
       "       [4.7],\n",
       "       [4.3],\n",
       "       [5.8],\n",
       "       [4.1],\n",
       "       [4. ],\n",
       "       [5.9],\n",
       "       [1.5],\n",
       "       [5.8],\n",
       "       [1.4],\n",
       "       [5.2],\n",
       "       [4.8],\n",
       "       [5. ],\n",
       "       [1.2],\n",
       "       [1.4],\n",
       "       [6.7],\n",
       "       [1.1],\n",
       "       [4.6],\n",
       "       [5.1],\n",
       "       [3.3],\n",
       "       [4.7],\n",
       "       [5.1],\n",
       "       [5.3],\n",
       "       [1.7],\n",
       "       [4.9],\n",
       "       [3.7],\n",
       "       [3. ],\n",
       "       [1.5],\n",
       "       [5.8],\n",
       "       [5.1]])"
      ]
     },
     "execution_count": 26,
     "metadata": {},
     "output_type": "execute_result"
    }
   ],
   "source": [
    "x_test"
   ]
  },
  {
   "cell_type": "code",
   "execution_count": 27,
   "id": "ce265b23",
   "metadata": {
    "execution": {
     "iopub.execute_input": "2024-02-27T16:03:53.448426Z",
     "iopub.status.busy": "2024-02-27T16:03:53.447950Z",
     "iopub.status.idle": "2024-02-27T16:03:53.456467Z",
     "shell.execute_reply": "2024-02-27T16:03:53.454952Z"
    },
    "papermill": {
     "duration": 0.031684,
     "end_time": "2024-02-27T16:03:53.459308",
     "exception": false,
     "start_time": "2024-02-27T16:03:53.427624",
     "status": "completed"
    },
    "tags": []
   },
   "outputs": [
    {
     "data": {
      "text/plain": [
       "array([1.91094744])"
      ]
     },
     "execution_count": 27,
     "metadata": {},
     "output_type": "execute_result"
    }
   ],
   "source": [
    "y_predict_test = lr.predict([[5.4]])\n",
    "y_predict_test"
   ]
  },
  {
   "cell_type": "code",
   "execution_count": 28,
   "id": "52bcfc19",
   "metadata": {
    "execution": {
     "iopub.execute_input": "2024-02-27T16:03:53.560300Z",
     "iopub.status.busy": "2024-02-27T16:03:53.559829Z",
     "iopub.status.idle": "2024-02-27T16:03:53.568413Z",
     "shell.execute_reply": "2024-02-27T16:03:53.567206Z"
    },
    "papermill": {
     "duration": 0.030859,
     "end_time": "2024-02-27T16:03:53.570839",
     "exception": false,
     "start_time": "2024-02-27T16:03:53.539980",
     "status": "completed"
    },
    "tags": []
   },
   "outputs": [
    {
     "data": {
      "text/plain": [
       "array([0.22095351, 1.6151985 , 1.44619911, 2.07994684, 1.36169941,\n",
       "       1.31944957, 2.12219669, 0.26320335, 2.07994684, 0.22095351,\n",
       "       1.82644775, 1.65744835, 1.74194805, 0.13645381, 0.22095351,\n",
       "       2.46019547, 0.09420396, 1.57294866, 1.7841979 , 1.02370063,\n",
       "       1.6151985 , 1.7841979 , 1.8686976 , 0.34770305, 1.6996982 ,\n",
       "       1.19270002, 0.89695108, 0.26320335, 2.07994684, 1.7841979 ])"
      ]
     },
     "execution_count": 28,
     "metadata": {},
     "output_type": "execute_result"
    }
   ],
   "source": [
    "y_predict_test = lr.predict(x_test)\n",
    "y_predict_test"
   ]
  },
  {
   "cell_type": "code",
   "execution_count": 29,
   "id": "0da4d86c",
   "metadata": {
    "execution": {
     "iopub.execute_input": "2024-02-27T16:03:53.610703Z",
     "iopub.status.busy": "2024-02-27T16:03:53.610224Z",
     "iopub.status.idle": "2024-02-27T16:03:53.827024Z",
     "shell.execute_reply": "2024-02-27T16:03:53.825887Z"
    },
    "papermill": {
     "duration": 0.240581,
     "end_time": "2024-02-27T16:03:53.829661",
     "exception": false,
     "start_time": "2024-02-27T16:03:53.589080",
     "status": "completed"
    },
    "tags": []
   },
   "outputs": [
    {
     "data": {
      "image/png": "[encoded data removed]",
      "text/plain": [
       "<Figure size 640x480 with 1 Axes>"
      ]
     },
     "metadata": {},
     "output_type": "display_data"
    }
   ],
   "source": [
    "#Hence the fully trained model is repesenting predictive results in graph form\n",
    "plt.scatter(x_test,y_test)\n",
    "plt.scatter(x_test,y_predict_test)\n",
    "plt.plot(x_test,y_predict_test,color=\"black\")\n",
    "plt.xlabel(\"Petal Length\")\n",
    "plt.ylabel(\"Petal Width\")\n",
    "plt.show()"
   ]
  },
  {
   "cell_type": "markdown",
   "id": "95e82545",
   "metadata": {
    "papermill": {
     "duration": 0.018702,
     "end_time": "2024-02-27T16:03:53.867027",
     "exception": false,
     "start_time": "2024-02-27T16:03:53.848325",
     "status": "completed"
    },
    "tags": []
   },
   "source": [
    "**Thank You**"
   ]
  }
 ],
 "metadata": {
  "kaggle": {
   "accelerator": "none",
   "dataSources": [
    {
     "datasetId": 17860,
     "sourceId": 23404,
     "sourceType": "datasetVersion"
    }
   ],
   "dockerImageVersionId": 30646,
   "isGpuEnabled": false,
   "isInternetEnabled": true,
   "language": "python",
   "sourceType": "notebook"
  },
  "kernelspec": {
   "display_name": "Python 3",
   "language": "python",
   "name": "python3"
  },
  "language_info": {
   "codemirror_mode": {
    "name": "ipython",
    "version": 3
   },
   "file_extension": ".py",
   "mimetype": "text/x-python",
   "name": "python",
   "nbconvert_exporter": "python",
   "pygments_lexer": "ipython3",
   "version": "3.10.13"
  },
  "papermill": {
   "default_parameters": {},
   "duration": 10.894951,
   "end_time": "2024-02-27T16:03:54.608552",
   "environment_variables": {},
   "exception": null,
   "input_path": "__notebook__.ipynb",
   "output_path": "__notebook__.ipynb",
   "parameters": {},
   "start_time": "2024-02-27T16:03:43.713601",
   "version": "2.5.0"
  }
 },
 "nbformat": 4,
 "nbformat_minor": 5
}
